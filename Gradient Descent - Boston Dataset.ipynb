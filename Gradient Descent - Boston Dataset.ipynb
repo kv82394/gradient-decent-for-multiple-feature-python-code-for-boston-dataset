{
 "cells": [
  {
   "cell_type": "code",
   "execution_count": 3,
   "metadata": {},
   "outputs": [],
   "source": [
    "import numpy as np"
   ]
  },
  {
   "cell_type": "code",
   "execution_count": 24,
   "metadata": {},
   "outputs": [],
   "source": [
    "def step_gradient(x_train,y_train,learning_rate,m,c):\n",
    "    #print(\"Step_gradient running\")\n",
    "    m_slope=[0]*13\n",
    "    c_slope=0\n",
    "    new_m=[0]*13\n",
    "    \n",
    "    M=len(x_train)\n",
    "    \n",
    "    for i in range(M):\n",
    "        z=0\n",
    "        for j in range(len(m_slope)):\n",
    "            z=z+m[j]*x_train[i][j]\n",
    "        z=z+c\n",
    "        y=y_train[i]\n",
    "        for j in range(len(m_slope)):\n",
    "            x=x_train[i,j]\n",
    "            m_slope[j]+=(-2/M)*(y-z)*x\n",
    "        c_slope+=(-2/M)*(y-z)\n",
    "    for k in range(len(m_slope)):\n",
    "        new_m[k]=m[k]-learning_rate*m_slope[k]\n",
    "    new_c=c-learning_rate*c_slope\n",
    "\n",
    "    return new_m,new_c"
   ]
  },
  {
   "cell_type": "code",
   "execution_count": 25,
   "metadata": {},
   "outputs": [],
   "source": [
    "def run(x_train,y_train,learning_rate,num_iteration):\n",
    "    m = [0]*13\n",
    "    c = 1\n",
    "    for i in range(num_iteration):\n",
    "        m , c = step_gradient(x_train,y_train,learning_rate,m,c)\n",
    "    return m,c"
   ]
  },
  {
   "cell_type": "code",
   "execution_count": 34,
   "metadata": {},
   "outputs": [],
   "source": [
    "def predict(x,m,c):\n",
    "    y_predict = []\n",
    "    for i in x:\n",
    "        predict = 0\n",
    "        for j in range(len(i)):\n",
    "            predict += m[j]*i[j]\n",
    "        predict = predict+ c\n",
    "        y_predict.append(predict)\n",
    "    return y_predict"
   ]
  },
  {
   "cell_type": "code",
   "execution_count": 42,
   "metadata": {},
   "outputs": [],
   "source": [
    "def score(y_actual,y_predict):\n",
    "    u = ((y_actual - y_predict)**2).sum()\n",
    "    v = ((y_actual-y_actual.mean())**2).sum()\n",
    "    return 1-u/v"
   ]
  },
  {
   "cell_type": "code",
   "execution_count": 4,
   "metadata": {},
   "outputs": [],
   "source": [
    "data = np.loadtxt('training_boston_x_y_train.csv',delimiter=',')\n",
    "learning_rate = 0.001\n",
    "num_iteration = 10000\n",
    "x = data[:,0:13]\n",
    "y = data[:,13]"
   ]
  },
  {
   "cell_type": "code",
   "execution_count": 5,
   "metadata": {},
   "outputs": [],
   "source": [
    "from sklearn import model_selection\n",
    "x_train , x_test , y_train , y_test = model_selection.train_test_split(x,y)"
   ]
  },
  {
   "cell_type": "code",
   "execution_count": 61,
   "metadata": {},
   "outputs": [],
   "source": [
    "m,c = run(x_train,y_train,learning_rate,num_iteration)"
   ]
  },
  {
   "cell_type": "code",
   "execution_count": 64,
   "metadata": {},
   "outputs": [],
   "source": [
    "y_predict = predict(x_test,m,c)"
   ]
  },
  {
   "cell_type": "code",
   "execution_count": 65,
   "metadata": {},
   "outputs": [
    {
     "name": "stdout",
     "output_type": "stream",
     "text": [
      "score is :  0.5960105787557755\n"
     ]
    }
   ],
   "source": [
    "print (\"score is : \",score(y_test,y_predict))"
   ]
  },
  {
   "cell_type": "markdown",
   "metadata": {},
   "source": [
    "# for testing data "
   ]
  },
  {
   "cell_type": "code",
   "execution_count": 66,
   "metadata": {},
   "outputs": [],
   "source": [
    "data = np.loadtxt('test_boston_x_test.csv',delimiter=',')"
   ]
  },
  {
   "cell_type": "code",
   "execution_count": 68,
   "metadata": {},
   "outputs": [],
   "source": [
    "y_predict_on_testing_data = predict(data,m,c)"
   ]
  },
  {
   "cell_type": "code",
   "execution_count": 69,
   "metadata": {},
   "outputs": [
    {
     "data": {
      "text/plain": [
       "[10.84880396756195,\n",
       " 29.207276838167274,\n",
       " 22.27470354566248,\n",
       " 23.76376659776619,\n",
       " 20.56670113530235,\n",
       " 4.013000881790504,\n",
       " 29.353472650427037,\n",
       " 24.780978889546876,\n",
       " 18.360289397333332,\n",
       " 22.602931278831793,\n",
       " 23.61514539632558,\n",
       " 18.176563700030243,\n",
       " 18.3246258636498,\n",
       " 22.179359876897784,\n",
       " 42.502925073940915,\n",
       " 23.399567305282076,\n",
       " 23.895074216603632,\n",
       " 27.597773020246017,\n",
       " 19.95115297987237,\n",
       " 31.83521181275254,\n",
       " 23.876362411014476,\n",
       " 25.10834837967999,\n",
       " 34.31587875048546,\n",
       " 33.78181424274372,\n",
       " 31.50185472506697,\n",
       " 15.35717170473568,\n",
       " 23.107790270662793,\n",
       " 31.902405113389868,\n",
       " 24.107302027185312,\n",
       " 32.51178198284923,\n",
       " 17.407411170528412,\n",
       " 25.30720318551159,\n",
       " 23.62788439407486,\n",
       " 26.122875277565978,\n",
       " 14.869508012434714,\n",
       " 29.498547334400534,\n",
       " 25.52949145530369,\n",
       " 20.734785035370102,\n",
       " 24.463724812389223,\n",
       " 9.839405687811833,\n",
       " 6.024583307124004,\n",
       " 28.11288606646364,\n",
       " 28.528528491691308,\n",
       " 20.673892093117807,\n",
       " 19.08487577672412,\n",
       " 1.5595385747609143,\n",
       " 41.00558449090309,\n",
       " 26.23478973350959,\n",
       " 29.728527587050205,\n",
       " 16.43866489273918,\n",
       " 16.675482990866335,\n",
       " 40.19674344093044,\n",
       " 17.251057159763207,\n",
       " 20.09386731408248,\n",
       " 16.39637791430824,\n",
       " 20.79565407678167,\n",
       " 18.69408588769919,\n",
       " 22.28133694732842,\n",
       " 14.046677668358193,\n",
       " 16.61711372642887,\n",
       " 13.704817945125727,\n",
       " 29.19027785117339,\n",
       " 25.36916209049455,\n",
       " 25.075759659608174,\n",
       " 15.939462393031391,\n",
       " 15.58547697140774,\n",
       " 34.83034911955852,\n",
       " 16.661748950503295,\n",
       " 25.14689300258154,\n",
       " 21.19350524110904,\n",
       " 29.322481937810117,\n",
       " 27.449927557688877,\n",
       " 17.763227417973134,\n",
       " 4.403203096385539,\n",
       " 36.16961366599568,\n",
       " 25.188826884927067,\n",
       " 29.028203826377595,\n",
       " 26.052544606799636,\n",
       " 15.82559963420423,\n",
       " 32.827695777931226,\n",
       " 17.91567877903998,\n",
       " 23.29931567628408,\n",
       " 22.045441440648677,\n",
       " 10.387608524620013,\n",
       " 16.539468756240343,\n",
       " 29.474727922764625,\n",
       " 27.706137069725568,\n",
       " 4.960281017119499,\n",
       " 21.913666902907163,\n",
       " 19.05485921687307,\n",
       " 21.672734682822693,\n",
       " 20.599189392574434,\n",
       " 21.562194351669596,\n",
       " 13.072663167127239,\n",
       " 19.254626731940352,\n",
       " 26.143644305200226,\n",
       " 39.81829866603864,\n",
       " 20.142907414958707,\n",
       " 32.28330243929641,\n",
       " 26.242780783647724,\n",
       " 27.08019742510295,\n",
       " 22.694571928691154,\n",
       " 24.02356582395501,\n",
       " 30.471654614520926,\n",
       " 16.809836809424993,\n",
       " 25.973417549713783,\n",
       " 21.16480942124376,\n",
       " 36.45134422989436,\n",
       " 21.282050099549807,\n",
       " 15.705672783702425,\n",
       " 27.52567019897424,\n",
       " -1.1443871535222954,\n",
       " 13.896579994068897,\n",
       " 13.864302758228293,\n",
       " 36.33910100060021,\n",
       " 21.089295082918213,\n",
       " 21.787864520714187,\n",
       " 24.9883635024906,\n",
       " 21.28757068142751,\n",
       " 18.39963189471471,\n",
       " 14.523438540674444,\n",
       " 34.67763817121451,\n",
       " 22.646230420723025,\n",
       " 24.94186690220355,\n",
       " 17.31528770827466,\n",
       " 20.974047127075245,\n",
       " 14.275704186706625]"
      ]
     },
     "execution_count": 69,
     "metadata": {},
     "output_type": "execute_result"
    }
   ],
   "source": [
    "y_predict_on_testing_data"
   ]
  },
  {
   "cell_type": "code",
   "execution_count": 70,
   "metadata": {},
   "outputs": [],
   "source": [
    "np.savetxt('test_y.csv', y_predict_on_testing_data)"
   ]
  },
  {
   "cell_type": "markdown",
   "metadata": {},
   "source": [
    "# by using module"
   ]
  },
  {
   "cell_type": "code",
   "execution_count": 6,
   "metadata": {},
   "outputs": [],
   "source": [
    "from sklearn.linear_model import LinearRegression"
   ]
  },
  {
   "cell_type": "code",
   "execution_count": 7,
   "metadata": {},
   "outputs": [
    {
     "data": {
      "text/plain": [
       "LinearRegression(copy_X=True, fit_intercept=True, n_jobs=None, normalize=False)"
      ]
     },
     "execution_count": 7,
     "metadata": {},
     "output_type": "execute_result"
    }
   ],
   "source": [
    "algo = algo = LinearRegression()\n",
    "algo.fit(x_train,y_train)"
   ]
  },
  {
   "cell_type": "code",
   "execution_count": 8,
   "metadata": {},
   "outputs": [],
   "source": [
    "y_predict = algo.predict(x_test)"
   ]
  },
  {
   "cell_type": "code",
   "execution_count": 9,
   "metadata": {},
   "outputs": [
    {
     "name": "stdout",
     "output_type": "stream",
     "text": [
      "score on training data  0.7232748547992485\n",
      "score on testing data  0.761294611013756\n"
     ]
    }
   ],
   "source": [
    "print('score on training data ',algo.score(x_train,y_train))\n",
    "print('score on testing data ',algo.score(x_test,y_test))"
   ]
  },
  {
   "cell_type": "code",
   "execution_count": 10,
   "metadata": {},
   "outputs": [],
   "source": [
    "data = np.loadtxt('test_boston_x_test.csv',delimiter=',')"
   ]
  },
  {
   "cell_type": "code",
   "execution_count": 11,
   "metadata": {},
   "outputs": [],
   "source": [
    "y_predict_on_testing_data = algo.predict(data)"
   ]
  },
  {
   "cell_type": "code",
   "execution_count": 12,
   "metadata": {},
   "outputs": [],
   "source": [
    "np.savetxt('test_y.csv', y_predict_on_testing_data)"
   ]
  },
  {
   "cell_type": "code",
   "execution_count": null,
   "metadata": {},
   "outputs": [],
   "source": []
  }
 ],
 "metadata": {
  "kernelspec": {
   "display_name": "Python 3",
   "language": "python",
   "name": "python3"
  },
  "language_info": {
   "codemirror_mode": {
    "name": "ipython",
    "version": 3
   },
   "file_extension": ".py",
   "mimetype": "text/x-python",
   "name": "python",
   "nbconvert_exporter": "python",
   "pygments_lexer": "ipython3",
   "version": "3.7.4"
  }
 },
 "nbformat": 4,
 "nbformat_minor": 2
}
